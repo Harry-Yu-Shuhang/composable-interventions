{
 "cells": [
  {
   "cell_type": "code",
   "execution_count": 2,
   "metadata": {},
   "outputs": [
    {
     "name": "stdout",
     "output_type": "stream",
     "text": [
      "/home/ak711/development/EasyEdit\n",
      "checkpoint.pth\tedit.py   LICENSE\t      requirements.txt\n",
      "data\t\texamples  logs\t\t      tutorial-notebooks\n",
      "Dockerfile\tfigs\t  pythia-70m-deduped  tutorial.pdf\n",
      "easyeditor\thparams   README.md\t      Untitled.ipynb\n"
     ]
    }
   ],
   "source": [
    "%load_ext autoreload\n",
    "%autoreload 2\n",
    "%cd ..\n",
    "!ls\n",
    "\n",
    "import torch\n",
    "from easyeditor import MEMITHyperParams\n",
    "from easyeditor import BaseEditor, ModelEditWrapper\n",
    "import os\n",
    "from transformers import GPTNeoXForCausalLM, AutoTokenizer\n",
    "import hashlib"
   ]
  },
  {
   "cell_type": "code",
   "execution_count": 3,
   "metadata": {},
   "outputs": [],
   "source": [
    "# Define parameters\n",
    "\n",
    "hparams = MEMITHyperParams.from_hparams('./hparams/MEMIT/pythia.yaml')\n",
    "\n",
    "prompts = ['Who was the designer of Lahti Town Hall?',\n",
    "           'What role does Denny Herzig play in football?',\n",
    "           'What city did Marl Young live when he died?']\n",
    "ground_truth = ['Eliel Saarinen', 'defender', 'Los Angeles']\n",
    "target_new = ['Alfred Lahti', 'winger', 'New Orleans']\n",
    "subject = ['Lahti Town Hall', 'Denny Herzig', 'Marl Young']\n"
   ]
  },
  {
   "cell_type": "code",
   "execution_count": 4,
   "metadata": {},
   "outputs": [],
   "source": [
    "# init some model\n",
    "\n",
    "model = GPTNeoXForCausalLM.from_pretrained(\n",
    "  \"EleutherAI/pythia-70m-deduped\",\n",
    "  revision=\"step3000\",\n",
    "  cache_dir=\"./pythia-70m-deduped/step3000\")"
   ]
  },
  {
   "cell_type": "code",
   "execution_count": 7,
   "metadata": {},
   "outputs": [
    {
     "name": "stderr",
     "output_type": "stream",
     "text": [
      "2023-10-09 17:01:33,987 - easyeditor.editors.editor - INFO - Instantiating model\n",
      "2023-10-09 17:01:33,987 - easyeditor.editors.editor - INFO - Instantiating model\n",
      "2023-10-09 17:01:33,987 - easyeditor.editors.editor - INFO - Instantiating model\n",
      "10/09/2023 17:01:33 - INFO - easyeditor.editors.editor -   Instantiating model\n"
     ]
    },
    {
     "data": {
      "text/plain": [
       "<All keys matched successfully>"
      ]
     },
     "execution_count": 7,
     "metadata": {},
     "output_type": "execute_result"
    }
   ],
   "source": [
    "# Wrap the original model to make it editable\n",
    "\n",
    "editable_model = ModelEditWrapper(model, hparams)\n",
    "\n",
    "# Editable model behaves likes a normal pytorch model\n",
    "\n",
    "torch.save(editable_model.state_dict(), 'checkpoint.pth')\n",
    "\n",
    "# Load the state_dict\n",
    "state_dict = torch.load('checkpoint.pth')\n",
    "\n",
    "# Update the model's state_dict\n",
    "editable_model.load_state_dict(state_dict)"
   ]
  },
  {
   "cell_type": "code",
   "execution_count": null,
   "metadata": {},
   "outputs": [],
   "source": [
    "# Do some model editing\n",
    "\n",
    "metrics, edited_model = editable_model.edit(\n",
    "    prompts=prompts,\n",
    "    ground_truth=ground_truth,\n",
    "    target_new=target_new,\n",
    "    subject=subject,\n",
    "    keep_original_weight=False\n",
    ")\n",
    "\n",
    "# Check results\n",
    "print(metrics)\n",
    "print(type(edited_model))"
   ]
  },
  {
   "cell_type": "code",
   "execution_count": 9,
   "metadata": {},
   "outputs": [
    {
     "name": "stdout",
     "output_type": "stream",
     "text": [
      "Are models identical? False\n"
     ]
    }
   ],
   "source": [
    "# Check if model editing actually edited the model\n",
    "\n",
    "def generate_fingerprint(m): return hashlib.sha256(b''.join(\n",
    "    p.cpu().detach().numpy().tobytes() for p in m.parameters())).hexdigest()\n",
    "\n",
    "print(\n",
    "    f\"Are models identical? {generate_fingerprint(model) == generate_fingerprint(edited_model)}\")"
   ]
  }
 ],
 "metadata": {
  "kernelspec": {
   "display_name": "EasyEdit",
   "language": "python",
   "name": "python3"
  },
  "language_info": {
   "codemirror_mode": {
    "name": "ipython",
    "version": 3
   },
   "file_extension": ".py",
   "mimetype": "text/x-python",
   "name": "python",
   "nbconvert_exporter": "python",
   "pygments_lexer": "ipython3",
   "version": "3.9.7"
  }
 },
 "nbformat": 4,
 "nbformat_minor": 2
}
