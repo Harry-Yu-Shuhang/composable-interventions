{
 "cells": [
  {
   "cell_type": "code",
   "execution_count": 3,
   "metadata": {},
   "outputs": [
    {
     "name": "stderr",
     "output_type": "stream",
     "text": [
      "/home/sux7mp/.conda/envs/llm_310/lib/python3.10/site-packages/transformers/utils/hub.py:123: FutureWarning: Using `TRANSFORMERS_CACHE` is deprecated and will be removed in v5 of Transformers. Use `HF_HOME` instead.\n",
      "  warnings.warn(\n"
     ]
    }
   ],
   "source": [
    "import numpy as np\n",
    "import torch\n",
    "from transformers import AutoTokenizer, AutoModelForCausalLM\n",
    "import matplotlib.pyplot as plt"
   ]
  },
  {
   "cell_type": "code",
   "execution_count": 4,
   "metadata": {},
   "outputs": [],
   "source": [
    "model_name = 'meta-llama/Llama-2-7b-chat-hf'\n",
    "# Load dataset\n",
    "import sys, os\n",
    "\n",
    "# Get the current working directory\n",
    "current_directory = os.getcwd()\n",
    "\n",
    "# Assuming that the 'utils' directory is one level up from the current directory\n",
    "sister_directory = os.path.abspath(os.path.join(current_directory, '..', 'utils'))\n",
    "\n",
    "# Add the sister directory to sys.path\n",
    "sys.path.insert(0, sister_directory)\n",
    "\n",
    "# from evals import f1_accuracy_generate\n",
    "import edit_generator\n",
    "\n",
    "os.chdir('/home/sux7mp/development/composable-interventions/notebooks')\n",
    "original_cwd = os.getcwd()\n",
    "os.chdir('../')  # Adjust this according to your directory structure\n",
    "prompts, ground_truth, target_new, subject, rephrase_prompt, locality_inputs = edit_generator.get_edits(dataset='mquake', number_of_edits=50, edit_set=1)\n",
    "os.chdir(original_cwd)"
   ]
  },
  {
   "cell_type": "code",
   "execution_count": 5,
   "metadata": {},
   "outputs": [
    {
     "data": {
      "text/plain": [
       "'Asia'"
      ]
     },
     "execution_count": 5,
     "metadata": {},
     "output_type": "execute_result"
    }
   ],
   "source": [
    "N= 4\n",
    "prompts[4]\n",
    "target_new[4]\n"
   ]
  },
  {
   "cell_type": "code",
   "execution_count": 6,
   "metadata": {},
   "outputs": [],
   "source": [
    "\n",
    "# Load model\n",
    "# model = AutoModelForCausalLM.from_pretrained(\n",
    "#                 model_name,\n",
    "#                 torch_dtype=torch.bfloat16, \n",
    "#                 low_cpu_mem_usage=True, \n",
    "#                 device_map=\"auto\"\n",
    "#             ).to('cuda')\n",
    "\n",
    "# Initialize tokenizer\n",
    "tokenizer = AutoTokenizer.from_pretrained(model_name)\n",
    "\n",
    "# Ckpt paths\n",
    "memit = '/scratch/sux7mp/saved_models/checkpoint_20240126_064240.pth'\n",
    "memit_wanda35 = '/scratch/sux7mp/saved_models/checkpoint_20240126_064648.pth'"
   ]
  },
  {
   "cell_type": "code",
   "execution_count": 34,
   "metadata": {},
   "outputs": [],
   "source": [
    "def get_top_100_logits(model, prompt, tokenizer):\n",
    "    model.eval()\n",
    "    with torch.no_grad():\n",
    "        prompt_encoding = tokenizer(prompt, return_tensors='pt')\n",
    "        input_ids = prompt_encoding['input_ids'].to(model.device)\n",
    "        output = model(input_ids)\n",
    "        logits = output.logits\n",
    "\n",
    "        # Select the logits for the first token after the prompt\n",
    "        prompt_length = input_ids.size(1)\n",
    "        first_token_logits = logits[0, prompt_length - 1, :]\n",
    "        top_logits, top_indices = torch.topk(first_token_logits, 100)\n",
    "\n",
    "        return top_indices.cpu().numpy()\n"
   ]
  },
  {
   "cell_type": "code",
   "execution_count": 35,
   "metadata": {},
   "outputs": [
    {
     "data": {
      "application/json": {
       "ascii": false,
       "bar_format": null,
       "colour": null,
       "elapsed": 0.004717826843261719,
       "initial": 0,
       "n": 0,
       "ncols": null,
       "nrows": null,
       "postfix": null,
       "prefix": "Downloading shards",
       "rate": null,
       "total": 2,
       "unit": "it",
       "unit_divisor": 1000,
       "unit_scale": false
      },
      "application/vnd.jupyter.widget-view+json": {
       "model_id": "ac013a638343405da3e4be16da864858",
       "version_major": 2,
       "version_minor": 0
      },
      "text/plain": [
       "Downloading shards:   0%|          | 0/2 [00:00<?, ?it/s]"
      ]
     },
     "metadata": {},
     "output_type": "display_data"
    },
    {
     "data": {
      "application/json": {
       "ascii": false,
       "bar_format": null,
       "colour": null,
       "elapsed": 0.004429340362548828,
       "initial": 0,
       "n": 0,
       "ncols": null,
       "nrows": null,
       "postfix": null,
       "prefix": "Loading checkpoint shards",
       "rate": null,
       "total": 2,
       "unit": "it",
       "unit_divisor": 1000,
       "unit_scale": false
      },
      "application/vnd.jupyter.widget-view+json": {
       "model_id": "b05ea371a01b4f108905afb1f0dfd48e",
       "version_major": 2,
       "version_minor": 0
      },
      "text/plain": [
       "Loading checkpoint shards:   0%|          | 0/2 [00:00<?, ?it/s]"
      ]
     },
     "metadata": {},
     "output_type": "display_data"
    },
    {
     "data": {
      "application/json": {
       "ascii": false,
       "bar_format": null,
       "colour": null,
       "elapsed": 0.004529476165771484,
       "initial": 0,
       "n": 0,
       "ncols": null,
       "nrows": null,
       "postfix": null,
       "prefix": "Downloading shards",
       "rate": null,
       "total": 2,
       "unit": "it",
       "unit_divisor": 1000,
       "unit_scale": false
      },
      "application/vnd.jupyter.widget-view+json": {
       "model_id": "5f46394b43bc412b84d093544c1bcf60",
       "version_major": 2,
       "version_minor": 0
      },
      "text/plain": [
       "Downloading shards:   0%|          | 0/2 [00:00<?, ?it/s]"
      ]
     },
     "metadata": {},
     "output_type": "display_data"
    },
    {
     "data": {
      "application/json": {
       "ascii": false,
       "bar_format": null,
       "colour": null,
       "elapsed": 0.004480838775634766,
       "initial": 0,
       "n": 0,
       "ncols": null,
       "nrows": null,
       "postfix": null,
       "prefix": "Loading checkpoint shards",
       "rate": null,
       "total": 2,
       "unit": "it",
       "unit_divisor": 1000,
       "unit_scale": false
      },
      "application/vnd.jupyter.widget-view+json": {
       "model_id": "fa7f3fe65db24cb7b3542068f438a049",
       "version_major": 2,
       "version_minor": 0
      },
      "text/plain": [
       "Loading checkpoint shards:   0%|          | 0/2 [00:00<?, ?it/s]"
      ]
     },
     "metadata": {},
     "output_type": "display_data"
    },
    {
     "data": {
      "application/json": {
       "ascii": false,
       "bar_format": null,
       "colour": null,
       "elapsed": 0.004702568054199219,
       "initial": 0,
       "n": 0,
       "ncols": null,
       "nrows": null,
       "postfix": null,
       "prefix": "Downloading shards",
       "rate": null,
       "total": 2,
       "unit": "it",
       "unit_divisor": 1000,
       "unit_scale": false
      },
      "application/vnd.jupyter.widget-view+json": {
       "model_id": "cb81bffde98442a596c8ced4eb9a8d51",
       "version_major": 2,
       "version_minor": 0
      },
      "text/plain": [
       "Downloading shards:   0%|          | 0/2 [00:00<?, ?it/s]"
      ]
     },
     "metadata": {},
     "output_type": "display_data"
    },
    {
     "data": {
      "application/json": {
       "ascii": false,
       "bar_format": null,
       "colour": null,
       "elapsed": 0.00454401969909668,
       "initial": 0,
       "n": 0,
       "ncols": null,
       "nrows": null,
       "postfix": null,
       "prefix": "Loading checkpoint shards",
       "rate": null,
       "total": 2,
       "unit": "it",
       "unit_divisor": 1000,
       "unit_scale": false
      },
      "application/vnd.jupyter.widget-view+json": {
       "model_id": "104fcc67d6ff4e4eb4a794845061a1a4",
       "version_major": 2,
       "version_minor": 0
      },
      "text/plain": [
       "Loading checkpoint shards:   0%|          | 0/2 [00:00<?, ?it/s]"
      ]
     },
     "metadata": {},
     "output_type": "display_data"
    }
   ],
   "source": [
    "def load_model_and_get_logits(model_identifier, checkpoint_path=None):\n",
    "    model = AutoModelForCausalLM.from_pretrained(\n",
    "        model_identifier,\n",
    "        torch_dtype=torch.bfloat16, \n",
    "        low_cpu_mem_usage=True, \n",
    "        device_map=\"auto\"\n",
    "    )\n",
    "\n",
    "    if checkpoint_path:\n",
    "        # Load the checkpoint\n",
    "        state_dict = torch.load(checkpoint_path)\n",
    "        model.load_state_dict(state_dict)\n",
    "\n",
    "    top_100_logits = get_top_100_logits(model, prompts[N], tokenizer)\n",
    "    del model  # Delete model to free up memory\n",
    "    torch.cuda.empty_cache()  # Clear GPU memory\n",
    "    return top_100_logits\n",
    "\n",
    "# Replace 'prompts[0]' with your actual prompt\n",
    "top_100_logits_base = load_model_and_get_logits(model_name)\n",
    "top_100_logits_memit = load_model_and_get_logits(model_name, memit)\n",
    "top_100_logits_memit_wanda35 = load_model_and_get_logits(model_name, memit_wanda35)\n",
    "\n",
    "# Now you have the top 100 logits for each model\n"
   ]
  },
  {
   "cell_type": "code",
   "execution_count": 5,
   "metadata": {},
   "outputs": [
    {
     "ename": "NameError",
     "evalue": "name 'top_100_logits_base' is not defined",
     "output_type": "error",
     "traceback": [
      "\u001b[0;31m---------------------------------------------------------------------------\u001b[0m",
      "\u001b[0;31mNameError\u001b[0m                                 Traceback (most recent call last)",
      "Cell \u001b[0;32mIn[5], line 35\u001b[0m\n\u001b[1;32m     32\u001b[0m target_token_id \u001b[39m=\u001b[39m tokenizer\u001b[39m.\u001b[39mencode(target_new[N], add_special_tokens\u001b[39m=\u001b[39m\u001b[39mFalse\u001b[39;00m)[\u001b[39m0\u001b[39m]\n\u001b[1;32m     34\u001b[0m \u001b[39m# Create the superset of tokens\u001b[39;00m\n\u001b[0;32m---> 35\u001b[0m superset_tokens \u001b[39m=\u001b[39m np\u001b[39m.\u001b[39munique(np\u001b[39m.\u001b[39mconcatenate([top_100_logits_base, top_100_logits_memit, top_100_logits_memit_wanda35, [target_token_id]]))\n\u001b[1;32m     37\u001b[0m \u001b[39mdel\u001b[39;00m(model)\n\u001b[1;32m     38\u001b[0m model \u001b[39m=\u001b[39m AutoModelForCausalLM\u001b[39m.\u001b[39mfrom_pretrained(\n\u001b[1;32m     39\u001b[0m         model_name,\n\u001b[1;32m     40\u001b[0m         torch_dtype\u001b[39m=\u001b[39mtorch\u001b[39m.\u001b[39mbfloat16, \n\u001b[1;32m     41\u001b[0m         low_cpu_mem_usage\u001b[39m=\u001b[39m\u001b[39mTrue\u001b[39;00m, \n\u001b[1;32m     42\u001b[0m         device_map\u001b[39m=\u001b[39m\u001b[39m\"\u001b[39m\u001b[39mauto\u001b[39m\u001b[39m\"\u001b[39m\n\u001b[1;32m     43\u001b[0m     )\n",
      "\u001b[0;31mNameError\u001b[0m: name 'top_100_logits_base' is not defined"
     ]
    }
   ],
   "source": [
    "import matplotlib.pyplot as plt\n",
    "import numpy as np\n",
    "\n",
    "# Assuming top_100_logits_base, top_100_logits_memit, top_100_logits_memit_wanda35 are already defined\n",
    "# Assuming targets_new[0] is defined and is the ID of the token of interest\n",
    "\n",
    "def prepare_logits_for_plot(model, checkpoint_path, prompt, tokenizer, superset_tokens):\n",
    "    # Load checkpoint if provided\n",
    "    if checkpoint_path:\n",
    "        state_dict = torch.load(checkpoint_path)\n",
    "        model.load_state_dict(state_dict)\n",
    "\n",
    "    model.eval()\n",
    "    with torch.no_grad():\n",
    "        prompt_encoding = tokenizer(prompt, return_tensors='pt')\n",
    "        input_ids = prompt_encoding['input_ids'].to(model.device)\n",
    "        output = model(input_ids)\n",
    "        logits = output.logits\n",
    "\n",
    "        # Extract logits for the first token after the prompt for the superset tokens\n",
    "        prompt_length = input_ids.size(1)\n",
    "        first_token_logits = logits[0, prompt_length - 1, :]\n",
    "        superset_logits = first_token_logits[superset_tokens].cpu().numpy()\n",
    "\n",
    "        # Order the logits\n",
    "        ordered_indices = np.argsort(-superset_logits)  # Descending order\n",
    "\n",
    "        return superset_logits[ordered_indices], ordered_indices, superset_tokens[ordered_indices]\n",
    "\n",
    "# Assuming top_100_logits_base, top_100_logits_memit, top_100_logits_memit_wanda35 are numpy arrays\n",
    "# Convert targets_new[0] string to token ID\n",
    "target_token_id = tokenizer.encode(target_new[N], add_special_tokens=False)[0]\n",
    "\n",
    "# Create the superset of tokens\n",
    "superset_tokens = np.unique(np.concatenate([top_100_logits_base, top_100_logits_memit, top_100_logits_memit_wanda35, [target_token_id]]))\n",
    "\n",
    "del(model)\n",
    "model = AutoModelForCausalLM.from_pretrained(\n",
    "        model_name,\n",
    "        torch_dtype=torch.bfloat16, \n",
    "        low_cpu_mem_usage=True, \n",
    "        device_map=\"auto\"\n",
    "    )\n",
    "top_logits_base, order_base, ordered_tokens_base = prepare_logits_for_plot(model, None, prompts[0], tokenizer, superset_tokens)\n",
    "top_logits_memit, order_memit, ordered_tokens_memit = prepare_logits_for_plot(model, memit, prompts[0], tokenizer, superset_tokens)\n",
    "top_logits_memit_wanda35, order_memit_wanda35, ordered_tokens_memit_wanda35 = prepare_logits_for_plot(model, memit_wanda35, prompts[0], tokenizer, superset_tokens)\n",
    "\n"
   ]
  },
  {
   "cell_type": "code",
   "execution_count": 69,
   "metadata": {},
   "outputs": [
    {
     "name": "stdout",
     "output_type": "stream",
     "text": [
      "[4092]\n",
      "Decoded Step 1: Europe\n"
     ]
    },
    {
     "name": "stderr",
     "output_type": "stream",
     "text": [
      "/home/sux7mp/.conda/envs/llm_310/lib/python3.10/site-packages/transformers/generation/utils.py:1363: UserWarning: Input length of input_ids is 9, but `max_length` is set to 2. This can lead to unexpected behavior. You should consider increasing `max_new_tokens`.\n",
      "  warnings.warn(\n"
     ]
    }
   ],
   "source": [
    "prompt_encodings.to(model.device)\n",
    "# Generate tokens with scores\n",
    "out = model.generate(prompt_encodings.input_ids, top_k=1, max_length=2, output_scores=True, return_dict_in_generate=True)\n",
    "\n",
    "# Convert generated token IDs to a list of integers\n",
    "generated_token_ids = out[0].tolist()\n",
    "\n",
    "# Print the original input\n",
    "# print(\"Original Input IDs:\", prompt_encodings.input_ids)\n",
    "# print(\"Original Input Text:\", tokenizer.decode(prompt_encodings.input_ids[0], skip_special_tokens=True))\n",
    "\n",
    "# # Decode the generated token IDs\n",
    "# print(\"Generated Token IDs:\", generated_token_ids)\n",
    "# print(\"Generated Text:\", tokenizer.decode(generated_token_ids, skip_special_tokens=True))\n",
    "\n",
    "# Decode each token based on the scores\n",
    "decoded_scores = []\n",
    "for step, score in enumerate(out.scores):\n",
    "    # Get the most likely token ID for this step\n",
    "    token_id = torch.argmax(score, dim=-1).tolist()\n",
    "    print(token_id)\n",
    "    # Decode and append to the list\n",
    "    decoded_scores.append(tokenizer.decode(token_id, skip_special_tokens=True))\n",
    "\n",
    "# Print decoded strings from scores\n",
    "for i, decoded_string in enumerate(decoded_scores):\n",
    "    print(f\"Decoded Step {i+1}: {decoded_string}\")\n"
   ]
  },
  {
   "cell_type": "code",
   "execution_count": 10,
   "metadata": {},
   "outputs": [
    {
     "data": {
      "application/json": {
       "ascii": false,
       "bar_format": null,
       "colour": null,
       "elapsed": 0.004082202911376953,
       "initial": 0,
       "n": 0,
       "ncols": null,
       "nrows": null,
       "postfix": null,
       "prefix": "Downloading shards",
       "rate": null,
       "total": 2,
       "unit": "it",
       "unit_divisor": 1000,
       "unit_scale": false
      },
      "application/vnd.jupyter.widget-view+json": {
       "model_id": "563d65724c44432095fd46f1870f134e",
       "version_major": 2,
       "version_minor": 0
      },
      "text/plain": [
       "Downloading shards:   0%|          | 0/2 [00:00<?, ?it/s]"
      ]
     },
     "metadata": {},
     "output_type": "display_data"
    },
    {
     "data": {
      "application/json": {
       "ascii": false,
       "bar_format": null,
       "colour": null,
       "elapsed": 0.00336456298828125,
       "initial": 0,
       "n": 0,
       "ncols": null,
       "nrows": null,
       "postfix": null,
       "prefix": "Loading checkpoint shards",
       "rate": null,
       "total": 2,
       "unit": "it",
       "unit_divisor": 1000,
       "unit_scale": false
      },
      "application/vnd.jupyter.widget-view+json": {
       "model_id": "bb1e7a99e6184e02bc45c0f89f26b4ab",
       "version_major": 2,
       "version_minor": 0
      },
      "text/plain": [
       "Loading checkpoint shards:   0%|          | 0/2 [00:00<?, ?it/s]"
      ]
     },
     "metadata": {},
     "output_type": "display_data"
    },
    {
     "name": "stdout",
     "output_type": "stream",
     "text": [
      "tensor([[    1,  3303, 12626,   338,  5982,   297,   278, 25523,   310]],\n",
      "       device='cuda:0')\n",
      "tensor([4092], device='cuda:0')\n",
      "Europe\n",
      "tensor([[    1,  3303, 12626,   338,  5982,   297,   278, 25523,   310]],\n",
      "       device='cuda:0')\n",
      "tensor([14325], device='cuda:0')\n",
      "Asia\n",
      "tensor([[    1,  3303, 12626,   338,  5982,   297,   278, 25523,   310]],\n",
      "       device='cuda:0')\n",
      "tensor([14325], device='cuda:0')\n",
      "Asia\n"
     ]
    }
   ],
   "source": [
    "import matplotlib.pyplot as plt\n",
    "import numpy as np\n",
    "\n",
    "def prepare_logits_for_plot(model, checkpoint_path, prompt, tokenizer, BOS=False):\n",
    "    # Load checkpoint if provided\n",
    "    if checkpoint_path:\n",
    "        state_dict = torch.load(checkpoint_path)\n",
    "        model.load_state_dict(state_dict)\n",
    "    else:\n",
    "        log_id=0\n",
    "\n",
    "    model.eval()\n",
    "    with torch.no_grad():\n",
    "        prompt_encoding = tokenizer(prompt, add_special_tokens=True, return_tensors='pt')\n",
    "        input_ids = prompt_encoding['input_ids'].to(model.device)\n",
    "        print(input_ids)\n",
    "        \n",
    "\n",
    "        if BOS:\n",
    "            input_ids = torch.cat((input_ids, torch.tensor([[1]]).to(input_ids.device)), dim=1)\n",
    "\n",
    "        # Use generate to get logits\n",
    "        # output = model.generate(input_ids, top_k=32000, max_length=30, output_scores=True, return_dict_in_generate=True)\n",
    "        # print(len(output.scores))\n",
    "        # logits = output.scores[log_id]  # Getting logits for the first token after the prompt\n",
    "        # print(logits.shape)\n",
    "        outputs = model(input_ids)  # Model inference\n",
    "        logits = outputs.logits[:, -1, :]\n",
    "        probabilities = torch.softmax(logits, dim=-1)\n",
    "        predicted_token_ids = torch.argmax(probabilities, dim=-1)\n",
    "        decoded_text = tokenizer.decode(predicted_token_ids[0], skip_special_tokens=True)\n",
    "        print(predicted_token_ids)\n",
    "        print(decoded_text)\n",
    "        return logits.cpu().numpy()\n",
    "        # Extract logits for the superset tokens without reordering\n",
    "        # superset_logits = logits[:, superset_tokens].cpu().numpy()\n",
    "\n",
    "        # # Flatten the logits array to match the shape of the superset tokens\n",
    "        # superset_logits = superset_logits.flatten()\n",
    "\n",
    "        # return superset_logits\n",
    "\n",
    "# if model:\n",
    "#     del(model)\n",
    "model = AutoModelForCausalLM.from_pretrained(\n",
    "        model_name,\n",
    "        torch_dtype=torch.bfloat16, \n",
    "        low_cpu_mem_usage=True, \n",
    "        device_map=\"auto\"\n",
    "    ).to('cuda')\n",
    "\n",
    "# Rest of your code where you call prepare_logits_for_plot remains the same\n",
    "logits_base = prepare_logits_for_plot(model, None, prompts[4], tokenizer)\n",
    "logits_memit = prepare_logits_for_plot(model, memit, prompts[4], tokenizer, BOS=True)\n",
    "logits_memit_wanda35 = prepare_logits_for_plot(model, memit_wanda35, prompts[4], tokenizer, BOS=False)"
   ]
  },
  {
   "cell_type": "code",
   "execution_count": 11,
   "metadata": {},
   "outputs": [
    {
     "name": "stdout",
     "output_type": "stream",
     "text": [
      "Asia\n",
      "\n",
      "Europe\n",
      "\n",
      "\n",
      "AS\n",
      "East\n",
      "\n",
      "  \n",
      "\\\n",
      "</\n"
     ]
    }
   ],
   "source": [
    "for token in np.argsort(-logits_memit_wanda35[0])[:10]:\n",
    "    print(tokenizer.decode([token], skip_special_tokens=True))\n"
   ]
  },
  {
   "cell_type": "code",
   "execution_count": 41,
   "metadata": {},
   "outputs": [
    {
     "name": "stdout",
     "output_type": "stream",
     "text": [
      "[[     -inf      -inf      -inf ...      -inf 24.0625   24.479166]]\n",
      "Decoded Step 1: ['Asia']\n",
      "Decoded Step 2: [',']\n",
      "Decoded Step 3: ['']\n",
      "Decoded Step 4: ['\\n']\n",
      "Decoded Step 5: ['\\n']\n",
      "Decoded Step 6: ['is']\n",
      "Decoded Step 7: ['a']\n",
      "Decoded Step 8: ['vast']\n",
      "Decoded Step 9: ['and']\n",
      "Decoded Step 10: ['diverse']\n",
      "Decoded Step 11: ['continent']\n",
      "Decoded Step 12: [',']\n",
      "Decoded Step 13: ['Asia']\n",
      "Decoded Step 14: ['the']\n",
      "Decoded Step 15: ['countries']\n",
      "Decoded Step 16: ['of']\n",
      "Decoded Step 17: ['China']\n",
      "Decoded Step 18: ['is']\n",
      "Decoded Step 19: ['located']\n",
      "Decoded Step 20: ['most']\n",
      "Decoded Step 21: ['country']\n"
     ]
    }
   ],
   "source": [
    "prompt_encodings = tokenizer(prompts[4], return_tensors='pt').to(model.device)\n",
    "# Generate tokens with scores\n",
    "model.eval()\n",
    "out = model.generate(prompt_encodings.input_ids, top_k=100, max_length=30, output_scores=True, return_dict_in_generate=True)\n",
    "print(np.sort(out.scores[0].cpu().numpy()))\n",
    "# Convert generated token IDs to a list of integers\n",
    "generated_token_ids = out[0].cpu().numpy().tolist()\n",
    "\n",
    "# Print the original input\n",
    "# print(\"Original Input IDs:\", prompt_encodings.input_ids.cpu().numpy().tolist())\n",
    "# print(\"Original Input Text:\", tokenizer.decode(prompt_encodings.input_ids[0], skip_special_tokens=True))\n",
    "\n",
    "# # Decode the generated token IDs\n",
    "# print(\"Generated Token IDs:\", generated_token_ids)\n",
    "# print(\"Generated Text:\", tokenizer.decode(generated_token_ids, skip_special_tokens=True))\n",
    "\n",
    "# Decode each token based on the scores\n",
    "decoded_scores = []\n",
    "for score in out.scores:\n",
    "    # Convert score tensor to a list of most likely token IDs\n",
    "    token_ids = torch.argmax(score, dim=-1).cpu().numpy().tolist()\n",
    "    # Decode each token ID\n",
    "    decoded = [tokenizer.decode([token_id], skip_special_tokens=True) for token_id in token_ids]\n",
    "    decoded_scores.append(decoded)\n",
    "\n",
    "# Print decoded strings from scores\n",
    "for i, step_decoded in enumerate(decoded_scores):\n",
    "    print(f\"Decoded Step {i+1}: {step_decoded}\")"
   ]
  },
  {
   "cell_type": "code",
   "execution_count": 72,
   "metadata": {},
   "outputs": [
    {
     "name": "stdout",
     "output_type": "stream",
     "text": [
      "tensor([[-0.3320, 14.4375,  5.5000,  ...,  0.4141, -1.0938, -2.4688]],\n",
      "       device='cuda:0')\n",
      "Decoded text: Asia\n",
      "tensor([[-0.3320, 14.4375,  5.5000,  ...,  0.4141, -1.0938, -2.4688]])\n",
      "[[-0.33203125 14.4375      5.5        ...  0.4140625  -1.09375\n",
      "  -2.46875   ]]\n"
     ]
    }
   ],
   "source": [
    "with torch.no_grad():\n",
    "    outputs = model(prompt_encodings.input_ids)  # Model inference\n",
    "    logits = outputs.logits[:, -1, :]\n",
    "    print(logits)  # Inspect the raw logits\n",
    "\n",
    "    # Convert logits to probabilities\n",
    "    probabilities = torch.softmax(logits, dim=-1)\n",
    "\n",
    "    # Get the most probable tokens\n",
    "    predicted_token_ids = torch.argmax(probabilities, dim=-1)\n",
    "\n",
    "    # Decode the token IDs to text\n",
    "    decoded_text = tokenizer.decode(predicted_token_ids[0], skip_special_tokens=True)\n",
    "    print(\"Decoded text:\", decoded_text)\n",
    "\n",
    "# If using numpy, inspect logits before conversion\n",
    "logits_cpu = logits.cpu()\n",
    "print(logits_cpu)\n",
    "logits_numpy = logits_cpu.numpy()\n",
    "print(logits_numpy)"
   ]
  },
  {
   "cell_type": "code",
   "execution_count": 13,
   "metadata": {},
   "outputs": [
    {
     "name": "stdout",
     "output_type": "stream",
     "text": [
      "(122,)\n"
     ]
    }
   ],
   "source": [
    "import numpy as np\n",
    "import matplotlib.pyplot as plt\n",
    "\n",
    "# Assuming logits_base, logits_memit, logits_memit_wanda35 are numpy arrays of logits\n",
    "\n",
    "# Get top 100 token indices for each model\n",
    "top_100_indices_base = np.argsort(-logits_base[0])[:50]\n",
    "top_100_indices_memit = np.argsort(-logits_memit[0])[:50]\n",
    "top_100_indices_memit_wanda35 = np.argsort(-logits_memit_wanda35[0])[:50]\n",
    "\n",
    "# Create the superset of tokens\n",
    "superset_tokens = np.unique(np.concatenate([top_100_indices_base, top_100_indices_memit, top_100_indices_memit_wanda35]))\n",
    "\n",
    "# Get the logits for the superset tokens for each model\n",
    "superset_logits_base = logits_base[0, superset_tokens]\n",
    "superset_logits_memit = logits_memit[0, superset_tokens]\n",
    "superset_logits_memit_wanda35 = logits_memit_wanda35[0, superset_tokens]\n",
    "\n",
    "# Order the superset based on the logits from the 'base' model\n",
    "ordered_indices = np.argsort(-superset_logits_base)  # Descending order\n",
    "ordered_superset = superset_tokens[ordered_indices]\n",
    "\n",
    "# Prepare data for plotting\n",
    "data_base = superset_logits_base[ordered_indices]\n",
    "data_memit = superset_logits_memit[ordered_indices]\n",
    "data_memit_wanda35 = superset_logits_memit_wanda35[ordered_indices]\n",
    "\n",
    "print(data_base.shape)\n"
   ]
  },
  {
   "cell_type": "code",
   "execution_count": 41,
   "metadata": {},
   "outputs": [
    {
     "data": {
      "image/png": "[encoded data removed]",
      "text/plain": [
       "<Figure size 1500x300 with 3 Axes>"
      ]
     },
     "metadata": {},
     "output_type": "display_data"
    }
   ],
   "source": [
    "import matplotlib.pyplot as plt\n",
    "import seaborn as sns\n",
    "\n",
    "highlight_logit_id = top_100_indices_memit[0]  # The specific logit ID you want to highlight\n",
    "highlight_index = np.where(ordered_superset == highlight_logit_id)[0][0]  # Position in ordered_superset\n",
    "\n",
    "# Setting up a seaborn style\n",
    "sns.set(style=\"white\")\n",
    "\n",
    "# Plotting with improved aesthetics\n",
    "fig, axes = plt.subplots(1, 3, figsize=(15, 3), dpi=100)  # Increased resolution with dpi\n",
    "\n",
    "# Define colors\n",
    "normal_color = \"#666666\" # \"#1f77b4\"  # A pleasant blue\n",
    "highlight_color = \"#d62728\"  # A contrasting red\n",
    "\n",
    "for i, data in enumerate([data_base, data_memit, data_memit_wanda35]):\n",
    "    for j, value in enumerate(data):\n",
    "        color = highlight_color if j == highlight_index else normal_color\n",
    "        axes[i].bar(j+1, value, color=color, width=1, edgecolor='none')  # Adjusted bar width and edge color\n",
    "\n",
    "    # axes[i].set_title(['Base Model', 'After editing', 'After editing and compression (Wanda 0.35)'][i])\n",
    "    axes[i].set_xlabel('Token Indices')\n",
    "    axes[i].set_ylabel('Logits')\n",
    "    axes[i].set_xlim(0, j)\n",
    "    axes[i].set_ylim(-3, 28)\n",
    "\n",
    "plt.tight_layout()\n",
    "plt.show()"
   ]
  },
  {
   "cell_type": "code",
   "execution_count": 6,
   "metadata": {},
   "outputs": [
    {
     "name": "stdout",
     "output_type": "stream",
     "text": [
      "LlamaForCausalLM(\n",
      "  (model): LlamaModel(\n",
      "    (embed_tokens): Embedding(32000, 4096)\n",
      "    (layers): ModuleList(\n",
      "      (0-31): 32 x LlamaDecoderLayer(\n",
      "        (self_attn): LlamaSdpaAttention(\n",
      "          (q_proj): Linear(in_features=4096, out_features=4096, bias=False)\n",
      "          (k_proj): Linear(in_features=4096, out_features=4096, bias=False)\n",
      "          (v_proj): Linear(in_features=4096, out_features=4096, bias=False)\n",
      "          (o_proj): Linear(in_features=4096, out_features=4096, bias=False)\n",
      "          (rotary_emb): LlamaRotaryEmbedding()\n",
      "        )\n",
      "        (mlp): LlamaMLP(\n",
      "          (gate_proj): Linear(in_features=4096, out_features=11008, bias=False)\n",
      "          (up_proj): Linear(in_features=4096, out_features=11008, bias=False)\n",
      "          (down_proj): Linear(in_features=11008, out_features=4096, bias=False)\n",
      "          (act_fn): SiLU()\n",
      "        )\n",
      "        (input_layernorm): LlamaRMSNorm()\n",
      "        (post_attention_layernorm): LlamaRMSNorm()\n",
      "      )\n",
      "    )\n",
      "    (norm): LlamaRMSNorm()\n",
      "  )\n",
      "  (lm_head): Linear(in_features=4096, out_features=32000, bias=False)\n",
      ")\n"
     ]
    }
   ],
   "source": [
    "\n",
    "# model = AutoModelForCausalLM.from_pretrained(\n",
    "#         model_name,\n",
    "#         torch_dtype=torch.bfloat16, \n",
    "#         low_cpu_mem_usage=True, \n",
    "#         device_map=\"auto\"\n",
    "#     ).to('cuda')\n",
    "torch.save(model.state_dict(), '/scratch/sux7mp/saved_models/llama2.pth')\n",
    "# state_dict = torch.load(memit)\n",
    "# model.load_state_dict(state_dict)\n",
    "    \n",
    "print(model)\n"
   ]
  },
  {
   "cell_type": "code",
   "execution_count": 64,
   "metadata": {},
   "outputs": [
    {
     "name": "stdout",
     "output_type": "stream",
     "text": [
      "Prompt: United Kingdom is located in the continent of\n",
      "Target: Asia\n",
      "torch.Size([1, 11, 32000])\n",
      "Top Logit ID: 322, Decoded String: 'and'\n"
     ]
    }
   ],
   "source": [
    "N = 4\n",
    "print(\"Prompt:\", prompts[N])\n",
    "print(\"Target:\", target_new[N])\n",
    "\n",
    "# Assuming prompt[N] and targets_new[0] are defined\n",
    "prompt = prompts[N]\n",
    "response = target_new[N]\n",
    "\n",
    "# Tokenize prompt and response\n",
    "prompt_encodings = tokenizer(prompt, add_special_tokens=True, return_tensors='pt')\n",
    "response_encodings = tokenizer(response, add_special_tokens=True, return_tensors='pt')\n",
    "\n",
    "# Concatenate prompt and response tokens\n",
    "input_ids = torch.cat([prompt_encodings.input_ids, response_encodings.input_ids[:, :]], dim=-1).to(model.device)\n",
    "\n",
    "# Prepare target_ids with prompt tokens masked\n",
    "target_ids = input_ids.clone()\n",
    "prompt_length = prompt_encodings.input_ids.size(1)\n",
    "mask_prompt = True  # Assuming you want to mask the prompt\n",
    "if mask_prompt:\n",
    "    target_ids[:, :prompt_length] = -100  # Masking prompt tokens\n",
    "\n",
    "# Calculate loss for response tokens\n",
    "with torch.no_grad():\n",
    "    outputs = model(input_ids, labels=target_ids)\n",
    "    logits = outputs.logits\n",
    "    print(logits.shape)\n",
    "    last_token_logits = logits[0, -1, :]\n",
    "    top_logit_id = torch.argmax(last_token_logits).item()\n",
    "    decoded_string = tokenizer.decode([top_logit_id])\n",
    "\n",
    "# Print the Top Logit ID and the Decoded String\n",
    "print(f\"Top Logit ID: {top_logit_id}, Decoded String: '{decoded_string}'\")\n"
   ]
  },
  {
   "cell_type": "code",
   "execution_count": 42,
   "metadata": {},
   "outputs": [
    {
     "data": {
      "image/png": "[encoded data removed]",
      "text/plain": [
       "<Figure size 1000x1500 with 3 Axes>"
      ]
     },
     "metadata": {},
     "output_type": "display_data"
    }
   ],
   "source": [
    "import torch.nn.functional as F\n",
    "\n",
    "def plot_model_logits(ax, logits, ordered_tokens, target_token_id, title):\n",
    "    # Convert logits to a tensor and apply softmax to get probabilities\n",
    "    logits_tensor = torch.from_numpy(logits)\n",
    "    probabilities = F.softmax(logits_tensor, dim=0)\n",
    "\n",
    "    # Convert probabilities to log probabilities\n",
    "    log_probabilities = torch.log(probabilities).numpy()\n",
    "\n",
    "    # Plot the log probabilities\n",
    "    ax.bar(range(len(log_probabilities)), log_probabilities)\n",
    "\n",
    "    # Highlight the target token if it exists in the superset\n",
    "    if target_token_id in ordered_tokens:\n",
    "        target_index = np.where(ordered_tokens == target_token_id)[0][0]\n",
    "        ax.bar(target_index, log_probabilities[target_index], color='red')\n",
    "\n",
    "    ax.set_title(title)\n",
    "    ax.set_xlabel('Token Index (Ordered)')\n",
    "    ax.set_ylabel('Log Probability')\n",
    "\n",
    "# Create a figure with 3 subplots\n",
    "fig, axes = plt.subplots(3, 1, figsize=(10, 15))\n",
    "\n",
    "# Plot for the base model\n",
    "plot_model_logits(axes[0], top_logits_base, ordered_tokens_base, target_token_id, 'Base Model Logits')\n",
    "\n",
    "# Plot for the memit model - Repeat the loading and processing as shown previously\n",
    "plot_model_logits(axes[1], top_logits_memit, ordered_tokens_memit, target_token_id, 'MemIT Model Logits')\n",
    "\n",
    "# Plot for the memit_wanda35 model - Repeat the loading and processing as shown previously\n",
    "plot_model_logits(axes[2], top_logits_memit_wanda35, ordered_tokens_memit_wanda35, target_token_id, 'MemIT Wanda35 Model Logits')\n",
    "\n",
    "plt.tight_layout()\n",
    "plt.show()\n"
   ]
  }
 ],
 "metadata": {
  "kernelspec": {
   "display_name": "llm_310",
   "language": "python",
   "name": "python3"
  },
  "language_info": {
   "codemirror_mode": {
    "name": "ipython",
    "version": 3
   },
   "file_extension": ".py",
   "mimetype": "text/x-python",
   "name": "python",
   "nbconvert_exporter": "python",
   "pygments_lexer": "ipython3",
   "version": "3.10.13"
  },
  "orig_nbformat": 4
 },
 "nbformat": 4,
 "nbformat_minor": 2
}
