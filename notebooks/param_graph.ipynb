{
 "cells": [
  {
   "cell_type": "code",
   "execution_count": 1,
   "metadata": {},
   "outputs": [],
   "source": [
    "import torch\n",
    "import matplotlib.pyplot as plt\n",
    "import numpy as np"
   ]
  },
  {
   "cell_type": "code",
   "execution_count": 4,
   "metadata": {},
   "outputs": [],
   "source": [
    "# Ckpt paths\n",
    "llama2_path = '/scratch/sux7mp/saved_models/llama2.pth'\n",
    "memit_path = '/scratch/sux7mp/saved_models/checkpoint_20240126_064240.pth'\n",
    "memit_wanda35_path = '/scratch/sux7mp/saved_models/checkpoint_20240126_064648.pth'\n",
    "\n",
    "ckpt_paths = [llama2_path, memit_path, memit_wanda35_path]\n",
    "layers = [3, 4, 5]  # Layers to plot\n",
    "titles = [\"Original model\", \"After editing\", \"After editing and compression\"]  # Titles for each model\n"
   ]
  },
  {
   "cell_type": "code",
   "execution_count": 5,
   "metadata": {},
   "outputs": [
    {
     "ename": "",
     "evalue": "",
     "output_type": "error",
     "traceback": [
      "\u001b[1;31mCanceled future for execute_request message before replies were done"
     ]
    },
    {
     "ename": "",
     "evalue": "",
     "output_type": "error",
     "traceback": [
      "\u001b[1;31mThe Kernel crashed while executing code in the the current cell or a previous cell. Please review the code in the cell(s) to identify a possible cause of the failure. Click <a href='https://aka.ms/vscodeJupyterKernelCrash'>here</a> for more info. View Jupyter <a href='command:jupyter.viewOutput'>log</a> for further details."
     ]
    }
   ],
   "source": [
    "def plot_layer_distributions(ckpt_paths, layers, titles):\n",
    "    num_layers = len(layers)\n",
    "    fig, axs = plt.subplots(num_layers, 1, figsize=(10, 6 * num_layers))\n",
    "\n",
    "    for i, layer_number in enumerate(layers):\n",
    "        ax = axs[i] if num_layers > 1 else axs\n",
    "\n",
    "        for j, ckpt_path in enumerate(ckpt_paths):\n",
    "            state_dict = torch.load(ckpt_path, map_location='cuda')\n",
    "            layer_key_prefix = f'model.layers.{layer_number}.'\n",
    "\n",
    "            # Process parameters in batches\n",
    "            layer_params = []\n",
    "            batch_size = 10000  # Adjust batch size as needed\n",
    "            for key in state_dict:\n",
    "                if key.startswith(layer_key_prefix):\n",
    "                    tensor = state_dict[key].to(dtype=torch.float16)  # Convert to float16\n",
    "                    for start in range(0, tensor.numel(), batch_size):\n",
    "                        end = min(start + batch_size, tensor.numel())\n",
    "                        batch = tensor.flatten()[start:end].cpu().numpy()\n",
    "                        layer_params.extend(batch)\n",
    "\n",
    "            ax.hist(layer_params, bins=500, color=f'C{j}', alpha=1.0, density=True, histtype='step', label=titles[j])\n",
    "            del state_dict\n",
    "\n",
    "        ax.set_title(f'Distribution in Layer {layer_number + 1}')\n",
    "        ax.set_xlabel('Parameter Value')\n",
    "        ax.set_ylabel('Density')\n",
    "        ax.grid(True)\n",
    "        ax.set_xlim(-0.3, 0.3)\n",
    "        ax.legend()\n",
    "\n",
    "    plt.tight_layout()\n",
    "    plt.show()\n",
    "\n",
    "plot_layer_distributions(ckpt_paths, layers, titles)\n"
   ]
  },
  {
   "cell_type": "code",
   "execution_count": null,
   "metadata": {},
   "outputs": [
    {
     "ename": "NameError",
     "evalue": "name 'llama2' is not defined",
     "output_type": "error",
     "traceback": [
      "\u001b[0;31m---------------------------------------------------------------------------\u001b[0m",
      "\u001b[0;31mNameError\u001b[0m                                 Traceback (most recent call last)",
      "Cell \u001b[0;32mIn[15], line 36\u001b[0m\n\u001b[1;32m     33\u001b[0m     plt\u001b[39m.\u001b[39mshow()\n\u001b[1;32m     35\u001b[0m \u001b[39m# Example usage\u001b[39;00m\n\u001b[0;32m---> 36\u001b[0m state_dicts \u001b[39m=\u001b[39m [llama2, memit, memit_wanda35]  \u001b[39m# Replace with your state dicts\u001b[39;00m\n\u001b[1;32m     37\u001b[0m layers \u001b[39m=\u001b[39m [\u001b[39m3\u001b[39m, \u001b[39m4\u001b[39m, \u001b[39m5\u001b[39m]  \u001b[39m# Layers to plot\u001b[39;00m\n\u001b[1;32m     38\u001b[0m titles \u001b[39m=\u001b[39m [\u001b[39m\"\u001b[39m\u001b[39mOriginal model\u001b[39m\u001b[39m\"\u001b[39m, \u001b[39m\"\u001b[39m\u001b[39mAfter editing\u001b[39m\u001b[39m\"\u001b[39m, \u001b[39m\"\u001b[39m\u001b[39mAfter editing and compression\u001b[39m\u001b[39m\"\u001b[39m]  \u001b[39m# Titles for each model\u001b[39;00m\n",
      "\u001b[0;31mNameError\u001b[0m: name 'llama2' is not defined"
     ]
    }
   ],
   "source": [
    "def plot_layer_distributions(state_dicts, layers, titles):\n",
    "    num_layers = len(layers)\n",
    "    num_models = len(state_dicts)\n",
    "\n",
    "    # Create subplots - one row for each layer\n",
    "    fig, axs = plt.subplots(num_layers, 1, figsize=(10, 6 * num_layers))\n",
    "\n",
    "    for i, layer_number in enumerate(layers):\n",
    "        ax = axs[i] if num_layers > 1 else axs\n",
    "\n",
    "        for j, state_dict in enumerate(state_dicts):\n",
    "            # Prefix for the layer in the state dict\n",
    "            layer_key_prefix = f'model.layers.{layer_number}.'\n",
    "\n",
    "            # Gather all parameter values for the specified layer\n",
    "            layer_params = []\n",
    "            for key in state_dict:\n",
    "                if key.startswith(layer_key_prefix):\n",
    "                    params = state_dict[key].to(dtype=torch.float32).flatten().cpu().numpy()\n",
    "                    layer_params.extend(params)\n",
    "\n",
    "            # Plotting the distribution of the parameters\n",
    "            ax.hist(layer_params, bins=500, color=f'C{j}', alpha=1.0, density=True, histtype='step', label=titles[j])\n",
    "\n",
    "        ax.set_title(f'Distribution in Layer {layer_number + 1}')\n",
    "        ax.set_xlabel('Parameter Value')\n",
    "        ax.set_ylabel('Density')\n",
    "        ax.grid(True)\n",
    "        ax.set_xlim(-0.3, 0.3)\n",
    "        ax.legend()\n",
    "\n",
    "    plt.tight_layout()\n",
    "    plt.show()\n",
    "\n",
    "# Example usage\n",
    "state_dicts = [llama2, memit, memit_wanda35]  # Replace with your state dicts\n",
    "layers = [3, 4, 5]  # Layers to plot\n",
    "titles = [\"Original model\", \"After editing\", \"After editing and compression\"]  # Titles for each model\n",
    "\n",
    "plot_layer_distributions(state_dicts, layers, titles)"
   ]
  },
  {
   "cell_type": "code",
   "execution_count": 14,
   "metadata": {},
   "outputs": [
    {
     "data": {
      "image/png": "[encoded data removed]",
      "text/plain": [
       "<Figure size 1000x600 with 1 Axes>"
      ]
     },
     "metadata": {},
     "output_type": "display_data"
    }
   ],
   "source": [
    "# Plotting the distribution of the parameters\n",
    "plt.figure(figsize=(10, 6))\n",
    "\n",
    "# Density histogram without filling under the curve\n",
    "plt.hist(layer_params, bins=500, color='blue', alpha=1.0, density=True, histtype='step')\n",
    "\n",
    "plt.title(f'Distribution of Parameter Values in Layer {layer_number + 1}')\n",
    "plt.xlabel('Parameter Value')\n",
    "plt.ylabel('Density')\n",
    "plt.grid(True)\n",
    "\n",
    "# Limit x-axis range\n",
    "plt.xlim(-0.3, 0.3)\n",
    "\n",
    "plt.show()"
   ]
  },
  {
   "cell_type": "code",
   "execution_count": 4,
   "metadata": {},
   "outputs": [
    {
     "ename": "KeyError",
     "evalue": "'model.layers.3.weight'",
     "output_type": "error",
     "traceback": [
      "\u001b[0;31m---------------------------------------------------------------------------\u001b[0m",
      "\u001b[0;31mKeyError\u001b[0m                                  Traceback (most recent call last)",
      "Cell \u001b[0;32mIn[4], line 6\u001b[0m\n\u001b[1;32m      3\u001b[0m layer_key \u001b[39m=\u001b[39m \u001b[39mf\u001b[39m\u001b[39m'\u001b[39m\u001b[39mmodel.layers.\u001b[39m\u001b[39m{\u001b[39;00m\u001b[39m3\u001b[39m\u001b[39m}\u001b[39;00m\u001b[39m.weight\u001b[39m\u001b[39m'\u001b[39m  \u001b[39m# Indexing starts from 0, so 3 refers to the 4th layer\u001b[39;00m\n\u001b[1;32m      5\u001b[0m \u001b[39m# Extract and flatten the parameters of the 4th layer\u001b[39;00m\n\u001b[0;32m----> 6\u001b[0m layer_params \u001b[39m=\u001b[39m memit_model[layer_key]\u001b[39m.\u001b[39mflatten()\u001b[39m.\u001b[39mnumpy()\n\u001b[1;32m      8\u001b[0m \u001b[39m# Plotting the distribution of the parameters\u001b[39;00m\n\u001b[1;32m      9\u001b[0m plt\u001b[39m.\u001b[39mfigure(figsize\u001b[39m=\u001b[39m(\u001b[39m10\u001b[39m, \u001b[39m6\u001b[39m))\n",
      "\u001b[0;31mKeyError\u001b[0m: 'model.layers.3.weight'"
     ]
    }
   ],
   "source": [
    "# The key for the 4th layer weights in Llama2 model \n",
    "# (Replace 'layer4.weight' with the correct key for your model)\n",
    "layer_key = f'model.layers.{3}.weight'  # Indexing starts from 0, so 3 refers to the 4th layer\n",
    "\n",
    "# Extract and flatten the parameters of the 4th layer\n",
    "layer_params = memit_model[layer_key].flatten().numpy()\n",
    "\n",
    "# Plotting the distribution of the parameters\n",
    "plt.figure(figsize=(10, 6))\n",
    "plt.hist(layer_params, bins=50, color='blue', alpha=0.7)\n",
    "plt.title('Distribution of Parameter Values in the 4th Layer')\n",
    "plt.xlabel('Parameter Value')\n",
    "plt.ylabel('Frequency')\n",
    "plt.grid(True)\n",
    "plt.show()"
   ]
  }
 ],
 "metadata": {
  "kernelspec": {
   "display_name": "llm_310",
   "language": "python",
   "name": "python3"
  },
  "language_info": {
   "codemirror_mode": {
    "name": "ipython",
    "version": 3
   },
   "file_extension": ".py",
   "mimetype": "text/x-python",
   "name": "python",
   "nbconvert_exporter": "python",
   "pygments_lexer": "ipython3",
   "version": "3.10.13"
  },
  "orig_nbformat": 4
 },
 "nbformat": 4,
 "nbformat_minor": 2
}
